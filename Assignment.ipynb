{
  "nbformat": 4,
  "nbformat_minor": 0,
  "metadata": {
    "colab": {
      "name": "Assignment.ipynb",
      "provenance": [],
      "collapsed_sections": [],
      "authorship_tag": "ABX9TyMwo9LYWIb+OxFcxlTM5JSG"
    },
    "kernelspec": {
      "name": "python3",
      "display_name": "Python 3"
    },
    "language_info": {
      "name": "python"
    }
  },
  "cells": [
    {
      "cell_type": "markdown",
      "source": [
        "**SECTION 1: ENVIRONMENT SETUP AND DATA LOADING**"
      ],
      "metadata": {
        "id": "WkuZQFa8NIX6"
      }
    },
    {
      "cell_type": "code",
      "execution_count": null,
      "metadata": {
        "id": "tZbUBH6qWZ0m"
      },
      "outputs": [],
      "source": [
        "!apt-get install openjdk-8-jdk-headless -qq > /dev/null"
      ]
    },
    {
      "cell_type": "code",
      "source": [
        "!wget -q https://archive.apache.org/dist/spark/spark-3.1.2/spark-3.1.2-bin-hadoop2.7.tgz"
      ],
      "metadata": {
        "id": "2MWuu3GlkVpv"
      },
      "execution_count": null,
      "outputs": []
    },
    {
      "cell_type": "code",
      "source": [
        "!tar xf spark-3.1.2-bin-hadoop2.7.tgz"
      ],
      "metadata": {
        "id": "4ejRxJLaka5K"
      },
      "execution_count": null,
      "outputs": []
    },
    {
      "cell_type": "code",
      "source": [
        "import os\n",
        "os.environ[\"JAVA_HOME\"] = \"/usr/lib/jvm/java-8-openjdk-amd64\"\n",
        "os.environ[\"SPARK_HOME\"] = \"/content/spark-3.1.2-bin-hadoop2.7\""
      ],
      "metadata": {
        "id": "i8K4AX-gk0W0"
      },
      "execution_count": null,
      "outputs": []
    },
    {
      "cell_type": "code",
      "source": [
        "!pip install -q findspark\n",
        "import findspark\n",
        "findspark.init()"
      ],
      "metadata": {
        "id": "MLO9qm9elVg1"
      },
      "execution_count": null,
      "outputs": []
    },
    {
      "cell_type": "code",
      "source": [
        "from pyspark.sql import SparkSession\n",
        "spark = (SparkSession.builder.appName(\"PySpark Analysis\").getOrCreate())"
      ],
      "metadata": {
        "id": "kr7OZFk-mkSh"
      },
      "execution_count": null,
      "outputs": []
    },
    {
      "cell_type": "code",
      "source": [
        "ipl_ball_by_ball = spark.read.csv(header = True, inferSchema = True, path = 'ipl_ball_by_ball.csv')\n",
        "ipl_ball_by_ball.printSchema()\n",
        "ipl_ball_by_ball.show(3)"
      ],
      "metadata": {
        "colab": {
          "base_uri": "https://localhost:8080/"
        },
        "id": "sJJSvJxpwfcD",
        "outputId": "9030ac76-849b-45b0-cbbf-264fd79299e4"
      },
      "execution_count": null,
      "outputs": [
        {
          "output_type": "stream",
          "name": "stdout",
          "text": [
            "root\n",
            " |-- match_id: integer (nullable = true)\n",
            " |-- inning: integer (nullable = true)\n",
            " |-- overs: integer (nullable = true)\n",
            " |-- ball: integer (nullable = true)\n",
            " |-- batsman: string (nullable = true)\n",
            " |-- non_striker: string (nullable = true)\n",
            " |-- bowler: string (nullable = true)\n",
            " |-- batsman_runs: integer (nullable = true)\n",
            " |-- extra_runs: integer (nullable = true)\n",
            " |-- total_runs: integer (nullable = true)\n",
            " |-- non_boundary: integer (nullable = true)\n",
            " |-- is_wicket: integer (nullable = true)\n",
            " |-- dismissal_kind: string (nullable = true)\n",
            " |-- player_dismissed: string (nullable = true)\n",
            " |-- fielder: string (nullable = true)\n",
            " |-- extras_type: string (nullable = true)\n",
            " |-- batting_team: string (nullable = true)\n",
            " |-- bowling_team: string (nullable = true)\n",
            "\n",
            "+--------+------+-----+----+-------------+-------------+------------+------------+----------+----------+------------+---------+--------------+----------------+-------+-----------+--------------------+--------------+\n",
            "|match_id|inning|overs|ball|      batsman|  non_striker|      bowler|batsman_runs|extra_runs|total_runs|non_boundary|is_wicket|dismissal_kind|player_dismissed|fielder|extras_type|        batting_team|  bowling_team|\n",
            "+--------+------+-----+----+-------------+-------------+------------+------------+----------+----------+------------+---------+--------------+----------------+-------+-----------+--------------------+--------------+\n",
            "|  419157|     2|   16|   4|      V Kohli|R Vinay Kumar|CRD Fernando|           0|         0|         0|           0|        0|            NA|              NA|     NA|         NA|Royal Challengers...|Mumbai Indians|\n",
            "|  419157|     2|   16|   5|      V Kohli|R Vinay Kumar|CRD Fernando|           1|         0|         1|           0|        0|            NA|              NA|     NA|         NA|Royal Challengers...|Mumbai Indians|\n",
            "|  419157|     2|   16|   6|R Vinay Kumar|      V Kohli|CRD Fernando|           1|         0|         1|           0|        0|            NA|              NA|     NA|         NA|Royal Challengers...|Mumbai Indians|\n",
            "+--------+------+-----+----+-------------+-------------+------------+------------+----------+----------+------------+---------+--------------+----------------+-------+-----------+--------------------+--------------+\n",
            "only showing top 3 rows\n",
            "\n"
          ]
        }
      ]
    },
    {
      "cell_type": "code",
      "source": [
        "ipl_matches = spark.read.csv(header = True, inferSchema = True, path = 'ipl_matches.csv')\n",
        "ipl_venue = spark.read.csv(header = True, inferSchema = True, path = 'ipl_venue.csv')\n",
        "ipl_matches.createOrReplaceTempView(\"schema_view\")\n",
        "  \n",
        "ipl_matches = spark.sql('''\n",
        "SELECT \n",
        "  match_id,\n",
        "  DATE(date),\n",
        "  player_of_match,\n",
        "  venue_id,\n",
        "  neutral_venue,\n",
        "  team1,\n",
        "  team2,\n",
        "  toss_winner,\n",
        "  toss_decision,\n",
        "  winner,\n",
        "  result,\n",
        "  INT(result_margin),\n",
        "  eliminator,\n",
        "  method,\n",
        "  umpire1,\n",
        "  umpire2\n",
        "FROM schema_view\n",
        "''')\n",
        "  \n",
        "ipl_matches.printSchema()\n",
        "ipl_matches.show(2)\n",
        "ipl_venue.printSchema()\n",
        "ipl_venue.show(2)"
      ],
      "metadata": {
        "colab": {
          "base_uri": "https://localhost:8080/"
        },
        "id": "D54gudqGOcH4",
        "outputId": "4fea7048-5667-4af5-fcc7-cb04116b7997"
      },
      "execution_count": null,
      "outputs": [
        {
          "output_type": "stream",
          "name": "stdout",
          "text": [
            "root\n",
            " |-- match_id: integer (nullable = true)\n",
            " |-- date: date (nullable = true)\n",
            " |-- player_of_match: string (nullable = true)\n",
            " |-- venue_id: integer (nullable = true)\n",
            " |-- neutral_venue: integer (nullable = true)\n",
            " |-- team1: string (nullable = true)\n",
            " |-- team2: string (nullable = true)\n",
            " |-- toss_winner: string (nullable = true)\n",
            " |-- toss_decision: string (nullable = true)\n",
            " |-- winner: string (nullable = true)\n",
            " |-- result: string (nullable = true)\n",
            " |-- result_margin: integer (nullable = true)\n",
            " |-- eliminator: string (nullable = true)\n",
            " |-- method: string (nullable = true)\n",
            " |-- umpire1: string (nullable = true)\n",
            " |-- umpire2: string (nullable = true)\n",
            "\n",
            "+--------+----------+---------------+--------+-------------+--------------------+--------------------+--------------------+-------------+--------------------+------+-------------+----------+------+---------+-----------+\n",
            "|match_id|      date|player_of_match|venue_id|neutral_venue|               team1|               team2|         toss_winner|toss_decision|              winner|result|result_margin|eliminator|method|  umpire1|    umpire2|\n",
            "+--------+----------+---------------+--------+-------------+--------------------+--------------------+--------------------+-------------+--------------------+------+-------------+----------+------+---------+-----------+\n",
            "|  335982|2008-04-18|    BB McCullum|      35|            0|Royal Challengers...|Kolkata Knight Ri...|Royal Challengers...|        field|Kolkata Knight Ri...|  runs|          140|         N|    NA|Asad Rauf|RE Koertzen|\n",
            "|  335983|2008-04-19|     MEK Hussey|      31|            0|     Kings XI Punjab| Chennai Super Kings| Chennai Super Kings|          bat| Chennai Super Kings|  runs|           33|         N|    NA|MR Benson| SL Shastri|\n",
            "+--------+----------+---------------+--------+-------------+--------------------+--------------------+--------------------+-------------+--------------------+------+-------------+----------+------+---------+-----------+\n",
            "only showing top 2 rows\n",
            "\n",
            "root\n",
            " |-- venue_id: integer (nullable = true)\n",
            " |-- venue: string (nullable = true)\n",
            " |-- city: string (nullable = true)\n",
            "\n",
            "+--------+--------------------+-------------+\n",
            "|venue_id|               venue|         city|\n",
            "+--------+--------------------+-------------+\n",
            "|       1|Dr. Y.S. Rajasekh...|Visakhapatnam|\n",
            "|       2|Sharjah Cricket S...|      Sharjah|\n",
            "+--------+--------------------+-------------+\n",
            "only showing top 2 rows\n",
            "\n"
          ]
        }
      ]
    },
    {
      "cell_type": "code",
      "source": [
        "#Check whether dataset has any missing values\n",
        "from pyspark.sql.functions import isnan, when, count, col \n",
        "ipl_ball_by_ball.select([count(when(isnan(c) | col(c).isNull(), c)).alias(c) for c in ipl_ball_by_ball.columns]).show(vertical=True)"
      ],
      "metadata": {
        "colab": {
          "base_uri": "https://localhost:8080/"
        },
        "id": "PSGklRUoUwuA",
        "outputId": "82d49292-ce27-4545-be41-8f5c734a8171"
      },
      "execution_count": null,
      "outputs": [
        {
          "output_type": "stream",
          "name": "stdout",
          "text": [
            "-RECORD 0---------------\n",
            " match_id         | 0   \n",
            " inning           | 0   \n",
            " overs            | 0   \n",
            " ball             | 0   \n",
            " batsman          | 0   \n",
            " non_striker      | 0   \n",
            " bowler           | 0   \n",
            " batsman_runs     | 0   \n",
            " extra_runs       | 0   \n",
            " total_runs       | 0   \n",
            " non_boundary     | 0   \n",
            " is_wicket        | 0   \n",
            " dismissal_kind   | 0   \n",
            " player_dismissed | 0   \n",
            " fielder          | 0   \n",
            " extras_type      | 0   \n",
            " batting_team     | 0   \n",
            " bowling_team     | 0   \n",
            "\n"
          ]
        }
      ]
    },
    {
      "cell_type": "code",
      "source": [
        "ipl_venue.select([count(when(isnan(c) | col(c).isNull(), c)).alias(c) for c in ipl_venue.columns]).show(vertical=True)"
      ],
      "metadata": {
        "colab": {
          "base_uri": "https://localhost:8080/"
        },
        "id": "ieYY6raFVWur",
        "outputId": "ba48a3a0-ab9d-483f-b417-e6cd416dcf93"
      },
      "execution_count": null,
      "outputs": [
        {
          "output_type": "stream",
          "name": "stdout",
          "text": [
            "-RECORD 0-------\n",
            " venue_id | 0   \n",
            " venue    | 0   \n",
            " city     | 0   \n",
            "\n"
          ]
        }
      ]
    },
    {
      "cell_type": "code",
      "source": [
        "ipl_matches.select(*[\n",
        "    (\n",
        "        count(when((isnan(c) | col(c).isNull()), c)) if t not in (\"timestamp\", \"date\")\n",
        "        else count(when(col(c).isNull(), c))\n",
        "    ).alias(c)\n",
        "    for c, t in ipl_matches.dtypes\n",
        "]).show(vertical=True)"
      ],
      "metadata": {
        "colab": {
          "base_uri": "https://localhost:8080/"
        },
        "id": "5lDtZhmP0fAQ",
        "outputId": "2427e692-6917-4556-eb74-8146a53e240c"
      },
      "execution_count": null,
      "outputs": [
        {
          "output_type": "stream",
          "name": "stdout",
          "text": [
            "-RECORD 0--------------\n",
            " match_id        | 0   \n",
            " date            | 0   \n",
            " player_of_match | 0   \n",
            " venue_id        | 0   \n",
            " neutral_venue   | 0   \n",
            " team1           | 0   \n",
            " team2           | 0   \n",
            " toss_winner     | 0   \n",
            " toss_decision   | 0   \n",
            " winner          | 0   \n",
            " result          | 0   \n",
            " result_margin   | 0   \n",
            " eliminator      | 0   \n",
            " method          | 0   \n",
            " umpire1         | 0   \n",
            " umpire2         | 0   \n",
            "\n"
          ]
        }
      ]
    },
    {
      "cell_type": "code",
      "source": [
        "ipl_matches = ipl_matches.fillna({'result_margin':'0'}) #For removing null values in result_margin column\n"
      ],
      "metadata": {
        "id": "DoqJOn93_r92"
      },
      "execution_count": null,
      "outputs": []
    },
    {
      "cell_type": "code",
      "source": [
        "ipl_ball_by_ball.createOrReplaceTempView(\"balls\")\n",
        "ipl_matches.createOrReplaceTempView(\"matches\")\n",
        "ipl_venue.createOrReplaceTempView(\"venue\")"
      ],
      "metadata": {
        "id": "043d8NM4NrJK"
      },
      "execution_count": null,
      "outputs": []
    },
    {
      "cell_type": "markdown",
      "source": [
        "**SECTION 2: USING pySpark FOR DATA ANALYSIS**"
      ],
      "metadata": {
        "id": "i63J2zzEPnpS"
      }
    },
    {
      "cell_type": "code",
      "source": [
        "# 1st question\n",
        "spark.sql(\n",
        "\"\"\"\n",
        "select b.venue,count(a.venue_id) from matches a\n",
        "inner join venue b on a.venue_id=b.venue_id\n",
        "where a.eliminator = 'Y'\n",
        "group by b.venue\n",
        "order by 2 desc;\n",
        "\"\"\").show(3)"
      ],
      "metadata": {
        "colab": {
          "base_uri": "https://localhost:8080/"
        },
        "id": "-iVLV66LEAs9",
        "outputId": "d7ac9825-12bd-494a-a289-402d8e237780"
      },
      "execution_count": null,
      "outputs": [
        {
          "output_type": "stream",
          "name": "stdout",
          "text": [
            "+--------------------+---------------+\n",
            "|               venue|count(venue_id)|\n",
            "+--------------------+---------------+\n",
            "|Dubai Internation...|              3|\n",
            "|Sheikh Zayed Stadium|              2|\n",
            "|    Feroz Shah Kotla|              1|\n",
            "+--------------------+---------------+\n",
            "only showing top 3 rows\n",
            "\n"
          ]
        }
      ]
    },
    {
      "cell_type": "code",
      "source": [
        "#2nd question\n",
        "spark.sql(\n",
        "\"\"\"\n",
        "select fielder,count(*) as catches from balls\n",
        "where dismissal_kind == 'caught'\n",
        "group by fielder\n",
        "order by count(1) desc\n",
        "\"\"\"\n",
        ").show(1)"
      ],
      "metadata": {
        "colab": {
          "base_uri": "https://localhost:8080/"
        },
        "id": "F7hCoGz_CtkB",
        "outputId": "eb9f2102-34b7-45f3-a2e3-b4afd80d2dce"
      },
      "execution_count": null,
      "outputs": [
        {
          "output_type": "stream",
          "name": "stdout",
          "text": [
            "+----------+-------+\n",
            "|   fielder|catches|\n",
            "+----------+-------+\n",
            "|KD Karthik|    118|\n",
            "+----------+-------+\n",
            "only showing top 1 row\n",
            "\n"
          ]
        }
      ]
    },
    {
      "cell_type": "code",
      "source": [
        "#3rd question\n",
        "from pyspark.sql.functions import sum\n",
        "merged=ipl_ball_by_ball.join(ipl_matches,on='match_id')\n",
        "DL=merged[merged['method']=='D/L']\n",
        "sum1=DL.groupBy(['match_id', 'bowler']).agg(sum(\"is_wicket\").alias(\"Wickets Taken\"))\n",
        "\n",
        "from pyspark.sql.window import Window\n",
        "from pyspark.sql.functions import rank\n",
        "from pyspark.sql.functions import col\n",
        "\n",
        "window = Window.partitionBy('match_id').orderBy(col('Wickets Taken').desc())\n",
        "res_4=sum1.withColumn('rank',rank().over(window))\n",
        "res_4.filter(res_4.rank==1).sort('Wickets Taken', ascending=False).show()"
      ],
      "metadata": {
        "colab": {
          "base_uri": "https://localhost:8080/"
        },
        "id": "4RuN4fefPVEh",
        "outputId": "a4bd39d9-8923-484a-fae3-281844bd6fdd"
      },
      "execution_count": null,
      "outputs": [
        {
          "output_type": "stream",
          "name": "stdout",
          "text": [
            "+--------+----------------+-------------+----+\n",
            "|match_id|          bowler|Wickets Taken|rank|\n",
            "+--------+----------------+-------------+----+\n",
            "|  392183|      DL Vettori|            5|   1|\n",
            "|  980943|        AB Dinda|            4|   1|\n",
            "|  336025|         M Ntini|            4|   1|\n",
            "|  980999|       YS Chahal|            4|   1|\n",
            "| 1136592|        TA Boult|            3|   1|\n",
            "| 1082648| NM Coulter-Nile|            3|   1|\n",
            "| 1136592|      JD Unadkat|            3|   1|\n",
            "| 1136566|        S Nadeem|            3|   1|\n",
            "|  980997|        AB Dinda|            3|   1|\n",
            "|  980997|         A Zampa|            3|   1|\n",
            "|  501255|   CK Langeveldt|            2|   1|\n",
            "|  980989|        R Ashwin|            2|   1|\n",
            "| 1136578|Mujeeb Ur Rahman|            2|   1|\n",
            "| 1136578|          AJ Tye|            2|   1|\n",
            "|  733993|        DW Steyn|            2|   1|\n",
            "|  501215|        R Ashwin|            2|   1|\n",
            "|  733993|    MC Henriques|            2|   1|\n",
            "|  392186|      SC Ganguly|            2|   1|\n",
            "|  829807|         D Wiese|            2|   1|\n",
            "|  829807|    MC Henriques|            2|   1|\n",
            "+--------+----------------+-------------+----+\n",
            "only showing top 20 rows\n",
            "\n"
          ]
        }
      ]
    },
    {
      "cell_type": "code",
      "source": [
        "#4th question\n",
        "legal=ipl_ball_by_ball[(~ipl_ball_by_ball['extras_type'].isin(['wides', 'noballs'])) & (ipl_ball_by_ball['overs'].between(6,19))]\n",
        "runs=legal.groupBy('batsman').sum('batsman_runs')\n",
        "ball=legal.groupby('batsman').count()\n",
        "balls=ball.withColumnRenamed(\"batsman\",\"batsman_1\")\n",
        "joined=balls.join(runs, balls.batsman_1 == runs.batsman, 'inner')\n",
        "result_4=joined.withColumn(\"Strike rate\", col(\"sum(batsman_runs)\")*100/col(\"count\")).sort('Strike rate',ascending=False)\n",
        "result_4.select('batsman','Strike rate').show(10)"
      ],
      "metadata": {
        "colab": {
          "base_uri": "https://localhost:8080/"
        },
        "id": "eMhVIdG8EJnI",
        "outputId": "1a0526f5-a3d7-4694-aa9a-336b7b1bbc54"
      },
      "execution_count": null,
      "outputs": [
        {
          "output_type": "stream",
          "name": "stdout",
          "text": [
            "+------------+------------------+\n",
            "|     batsman|       Strike rate|\n",
            "+------------+------------------+\n",
            "|  B Stanlake|             250.0|\n",
            "|  ER Dwivedi|211.11111111111111|\n",
            "|Kamran Akmal| 208.1081081081081|\n",
            "|    Umar Gul|205.26315789473685|\n",
            "|    RS Sodhi|             200.0|\n",
            "|   LJ Wright|184.31372549019608|\n",
            "|  AD Russell| 182.1078431372549|\n",
            "|Vishnu Vinod|             180.0|\n",
            "|    V Sehwag|             175.0|\n",
            "|TU Deshpande|             175.0|\n",
            "+------------+------------------+\n",
            "only showing top 10 rows\n",
            "\n"
          ]
        }
      ]
    },
    {
      "cell_type": "code",
      "source": [
        "#5th question\n",
        "spark.sql(\n",
        "\"\"\"\n",
        "select c.venue,c.city,a.match_id,a.inning,SUM(a.extra_runs) AS Extra_Runs from balls a \n",
        "inner join matches b on a.match_id=b.match_id\n",
        "inner join venue c on b.venue_id=c.venue_id\n",
        "group by c.venue,c.city,a.match_id,a.inning\n",
        "order by Extra_Runs desc;\n",
        "\"\"\").show()"
      ],
      "metadata": {
        "colab": {
          "base_uri": "https://localhost:8080/"
        },
        "id": "_Kn9kzycY_v4",
        "outputId": "3a988c9c-1ccf-4d76-e587-925975c3f4d9"
      },
      "execution_count": null,
      "outputs": [
        {
          "output_type": "stream",
          "name": "stdout",
          "text": [
            "+--------------------+--------------+--------+------+----------+\n",
            "|               venue|          city|match_id|inning|Extra_Runs|\n",
            "+--------------------+--------------+--------+------+----------+\n",
            "|        Eden Gardens|       Kolkata|  335986|     2|        28|\n",
            "|Himachal Pradesh ...|    Dharamsala|  501260|     1|        27|\n",
            "|Sawai Mansingh St...|        Jaipur|  336023|     1|        26|\n",
            "|    St George's Park|Port Elizabeth|  392227|     2|        26|\n",
            "|   Brabourne Stadium|        Mumbai|  829811|     2|        26|\n",
            "|    Wankhede Stadium|        Mumbai|  733983|     1|        25|\n",
            "|     SuperSport Park|     Centurion|  392235|     1|        24|\n",
            "|Holkar Cricket St...|        Indore|  501254|     1|        23|\n",
            "|    Wankhede Stadium|        Mumbai|  336028|     2|        23|\n",
            "|M.Chinnaswamy Sta...|     Bengaluru| 1136591|     2|        23|\n",
            "|Punjab Cricket As...|    Chandigarh|  501251|     1|        22|\n",
            "|Maharashtra Crick...|          Pune|  829709|     1|        21|\n",
            "|Sawai Mansingh St...|        Jaipur|  336005|     2|        21|\n",
            "|   Brabourne Stadium|        Mumbai|  419132|     1|        21|\n",
            "|        Eden Gardens|       Kolkata|  734037|     1|        21|\n",
            "|MA Chidambaram St...|       Chennai|  419153|     1|        20|\n",
            "|        Eden Gardens|       Kolkata|  829723|     1|        20|\n",
            "|MA Chidambaram St...|       Chennai|  598034|     2|        20|\n",
            "|Rajiv Gandhi Inte...|     Hyderabad| 1178423|     1|        20|\n",
            "|     SuperSport Park|     Centurion|  392231|     1|        20|\n",
            "+--------------------+--------------+--------+------+----------+\n",
            "only showing top 20 rows\n",
            "\n"
          ]
        }
      ]
    },
    {
      "cell_type": "code",
      "source": [
        "#6th question\n",
        "spark.sql(\n",
        "\"\"\"\n",
        "select player_of_match,count(player_of_match) from matches\n",
        "where neutral_venue = 1\n",
        "group by player_of_match\n",
        "order by count(player_of_match) desc \n",
        "\"\"\").show()"
      ],
      "metadata": {
        "colab": {
          "base_uri": "https://localhost:8080/"
        },
        "id": "xFvnAeZAY_Zi",
        "outputId": "06734084-fd9b-4673-966f-99917afae2d1"
      },
      "execution_count": null,
      "outputs": [
        {
          "output_type": "stream",
          "name": "stdout",
          "text": [
            "+----------------+----------------------+\n",
            "| player_of_match|count(player_of_match)|\n",
            "+----------------+----------------------+\n",
            "|       JP Duminy|                     3|\n",
            "|      GJ Maxwell|                     3|\n",
            "|       YK Pathan|                     3|\n",
            "|       JH Kallis|                     3|\n",
            "|    Yuvraj Singh|                     2|\n",
            "|     LRPL Taylor|                     2|\n",
            "|  Sandeep Sharma|                     2|\n",
            "|    SR Tendulkar|                     2|\n",
            "|        SK Raina|                     2|\n",
            "|       RG Sharma|                     2|\n",
            "|       ML Hayden|                     2|\n",
            "|DPMD Jayawardene|                     2|\n",
            "|        DR Smith|                     2|\n",
            "|   KC Sangakkara|                     2|\n",
            "|  M Muralitharan|                     2|\n",
            "|       MK Pandey|                     2|\n",
            "|  AB de Villiers|                     2|\n",
            "|    AC Gilchrist|                     2|\n",
            "|     S Badrinath|                     1|\n",
            "|        R Dravid|                     1|\n",
            "+----------------+----------------------+\n",
            "only showing top 20 rows\n",
            "\n"
          ]
        }
      ]
    },
    {
      "cell_type": "code",
      "source": [
        "#7th question\n",
        "player_dismissed=ipl_ball_by_ball.groupby('player_dismissed').count()\n",
        "total_runs=ipl_ball_by_ball.groupBy('batsman').sum('batsman_runs')\n",
        "joined_data=player_dismissed.join(total_runs, player_dismissed.player_dismissed == total_runs.batsman, 'inner') \n",
        "result_7=joined_data.withColumn(\"Batsmen Avg\", col(\"sum(batsman_runs)\")/col(\"count\")).sort('Batsmen Avg',ascending=False)\n",
        "result_7.select('batsman','Batsmen Avg').show(10)"
      ],
      "metadata": {
        "colab": {
          "base_uri": "https://localhost:8080/"
        },
        "id": "2C8uBOW2dvF1",
        "outputId": "96588963-de03-4689-c266-bd7ec5d2a880"
      },
      "execution_count": null,
      "outputs": [
        {
          "output_type": "stream",
          "name": "stdout",
          "text": [
            "+-------------+------------------+\n",
            "|      batsman|       Batsmen Avg|\n",
            "+-------------+------------------+\n",
            "|   MN van Wyk|55.666666666666664|\n",
            "|   RD Gaikwad|              51.0|\n",
            "|     AC Voges|             45.25|\n",
            "|     KL Rahul| 44.86440677966102|\n",
            "|      HM Amla| 44.38461538461539|\n",
            "|Iqbal Abdulla|              44.0|\n",
            "|    DA Warner| 42.71544715447155|\n",
            "|  JM Bairstow|41.578947368421055|\n",
            "|     CH Gayle| 41.13793103448276|\n",
            "|     MS Dhoni|40.991150442477874|\n",
            "+-------------+------------------+\n",
            "only showing top 10 rows\n",
            "\n"
          ]
        }
      ]
    },
    {
      "cell_type": "code",
      "source": [
        "#8th question\n",
        "spark.sql(\n",
        "\"\"\"\n",
        "select umpire, count(*)\n",
        "from ((select umpire1 as umpire from matches) union all\n",
        "      (select umpire2 from matches)\n",
        "     ) matches\n",
        "group by umpire\n",
        "order by count(*) desc ;\n",
        "\"\"\").show()"
      ],
      "metadata": {
        "colab": {
          "base_uri": "https://localhost:8080/"
        },
        "id": "jIFItytPf0tl",
        "outputId": "469087b7-4b9d-414f-a4e8-b4d6c008efa2"
      },
      "execution_count": null,
      "outputs": [
        {
          "output_type": "stream",
          "name": "stdout",
          "text": [
            "+--------------------+--------+\n",
            "|              umpire|count(1)|\n",
            "+--------------------+--------+\n",
            "|              S Ravi|     121|\n",
            "|     HDPK Dharmasena|      94|\n",
            "|        AK Chaudhary|      87|\n",
            "|       C Shamshuddin|      82|\n",
            "|           M Erasmus|      65|\n",
            "|           CK Nandan|      57|\n",
            "|         Nitin Menon|      57|\n",
            "|          SJA Taufel|      55|\n",
            "|           Asad Rauf|      51|\n",
            "|         VA Kulkarni|      50|\n",
            "|        BNJ Oxenford|      48|\n",
            "|         CB Gaffaney|      47|\n",
            "|           RJ Tucker|      46|\n",
            "|         BR Doctrove|      42|\n",
            "|         RE Koertzen|      41|\n",
            "|           Aleem Dar|      38|\n",
            "|           BF Bowden|      37|\n",
            "|            NJ Llong|      37|\n",
            "|KN Ananthapadmana...|      33|\n",
            "|      RK Illingworth|      31|\n",
            "+--------------------+--------+\n",
            "only showing top 20 rows\n",
            "\n"
          ]
        }
      ]
    },
    {
      "cell_type": "code",
      "source": [
        "#9th question\n",
        "spark.sql(\n",
        "\"\"\"\n",
        "select m.match_id,first(v.venue),first(v.city),sum(b.batsman_runs) from balls as b\n",
        "inner join matches as m on b.match_id=m.match_id\n",
        "inner join venue as v on m.venue_id =v.venue_id\n",
        "where b.batsman= 'V Kohli'\n",
        "group by m.match_id\n",
        "order by sum(b.batsman_runs) desc limit 1; \n",
        "\"\"\").show()"
      ],
      "metadata": {
        "colab": {
          "base_uri": "https://localhost:8080/"
        },
        "id": "KUJh0HtEnJNI",
        "outputId": "a851fb03-3285-43b5-bf24-9fa5893dea49"
      },
      "execution_count": null,
      "outputs": [
        {
          "output_type": "stream",
          "name": "stdout",
          "text": [
            "+--------+--------------------+-----------+-----------------+\n",
            "|match_id|        first(venue)|first(city)|sum(batsman_runs)|\n",
            "+--------+--------------------+-----------+-----------------+\n",
            "|  980999|M.Chinnaswamy Sta...|  Bengaluru|              113|\n",
            "+--------+--------------------+-----------+-----------------+\n",
            "\n"
          ]
        }
      ]
    },
    {
      "cell_type": "code",
      "source": [
        "#10th question\n",
        "win_count = 0\n",
        "for index, value in ipl_matches.toPandas().iterrows():\n",
        "  if (value['toss_winner'] == value['winner']):\n",
        "    win_count += 1\n",
        "\n",
        "print(f'The number of times the team winning toss have won: {win_count}')\n",
        "prob = win_count/ipl_matches.count()\n",
        "print('The probability of winning if won the toss: {:.2f}' .format(prob))"
      ],
      "metadata": {
        "colab": {
          "base_uri": "https://localhost:8080/"
        },
        "id": "sk_s2AWZpxM4",
        "outputId": "c21a252c-abf1-47ce-85fd-739d09419251"
      },
      "execution_count": null,
      "outputs": [
        {
          "output_type": "stream",
          "name": "stdout",
          "text": [
            "The number of times the team winning toss have won: 418\n",
            "The probability of winning if won the toss: 0.51\n"
          ]
        }
      ]
    },
    {
      "cell_type": "markdown",
      "source": [
        "**The probability of winning when the team had won the toss is 51%.** So winning toss gives a slight edge over the opponent. However, it would be naive to term winning the toss as a greater advantage as there were 398 instances when the team losing the toss has won the game."
      ],
      "metadata": {
        "id": "rSMLxJdytXym"
      }
    },
    {
      "cell_type": "code",
      "source": [
        "# DATA VISUALIZATION \n",
        "import seaborn as sns\n",
        "ipl_pd_df = ipl_matches.toPandas()\n",
        "ss = ipl_pd_df['toss_winner'] == ipl_pd_df['winner']\n",
        "ss.groupby(ss).size()\n",
        "sns.set_theme(style=\"darkgrid\")\n",
        "ax = sns.countplot(ss);\n",
        "ax.set_title(\"Toss Result Analysis\",fontdict= { 'fontsize': 15, 'fontweight':'bold'})"
      ],
      "metadata": {
        "id": "AGh8AtpXyvFa",
        "colab": {
          "base_uri": "https://localhost:8080/",
          "height": 358
        },
        "outputId": "2b98e28b-832e-4035-c04e-82f939742ba9"
      },
      "execution_count": null,
      "outputs": [
        {
          "output_type": "stream",
          "name": "stderr",
          "text": [
            "/usr/local/lib/python3.7/dist-packages/seaborn/_decorators.py:43: FutureWarning: Pass the following variable as a keyword arg: x. From version 0.12, the only valid positional argument will be `data`, and passing other arguments without an explicit keyword will result in an error or misinterpretation.\n",
            "  FutureWarning\n"
          ]
        },
        {
          "output_type": "execute_result",
          "data": {
            "text/plain": [
              "Text(0.5, 1.0, 'Toss Result Analysis')"
            ]
          },
          "metadata": {},
          "execution_count": 25
        },
        {
          "output_type": "display_data",
          "data": {
            "image/png": "[encoded data removed]",
            "text/plain": [
              "<Figure size 432x288 with 1 Axes>"
            ]
          },
          "metadata": {}
        }
      ]
    },
    {
      "cell_type": "markdown",
      "source": [
        "**SECTION 3: EXPOSE DATA**"
      ],
      "metadata": {
        "id": "NW6dAmyw13rr"
      }
    },
    {
      "cell_type": "code",
      "source": [
        "! pip install pyodbc"
      ],
      "metadata": {
        "colab": {
          "base_uri": "https://localhost:8080/"
        },
        "id": "TJaCK3eD4UsU",
        "outputId": "95e96113-ae5f-4ef4-8ec6-346575076cea"
      },
      "execution_count": null,
      "outputs": [
        {
          "output_type": "stream",
          "name": "stdout",
          "text": [
            "Requirement already satisfied: pyodbc in /usr/local/lib/python3.7/dist-packages (4.0.32)\n"
          ]
        }
      ]
    },
    {
      "cell_type": "code",
      "source": [
        "import pyodbc\n",
        "class IplData:\n",
        "  def __init__(self):\n",
        "    self.conn = pyodbc.connect(\n",
        "        \"Driver={SQL Server for Native Client 11.0};\"\n",
        "        \"Server=.;\"\n",
        "        \"Database=IplData;\"\n",
        "        \"Trusted_Connection=yes;\"\n",
        "    )\n",
        "\n",
        "    self.cur = self.conn.cursor()\n",
        "\n",
        "  def get_query1_results(self):\n",
        "    self.cur.execute(\"\"\"select b.venue,count(a.venue_id) from matches a\n",
        "                       inner join venue b on a.venue_id=b.venue_id\n",
        "                       where a.eliminator = 'Y'\n",
        "                       group by b.venue\n",
        "                       order by 2 desc;\"\"\")\n",
        "    q1 = self.cur.fetchone()\n",
        "    return q1\n",
        "\n",
        "  def get_query2_results(self):\n",
        "    self.cur.execute(\"\"\"select fielder,count(*) as catches from balls\n",
        "                        where dismissal_kind == 'caught'\n",
        "                        group by fielder\n",
        "                        order by count(1) desc\"\"\")\n",
        "    q2 = self.cur.fetchone()\n",
        "    return q2\n",
        "\n",
        "  def get_query4_results(self):\n",
        "    self.cur.execute(\"\"\"legal=ipl_ball_by_ball[(~ipl_ball_by_ball['extras_type'].isin(['wides', 'noballs'])) & (ipl_ball_by_ball['overs'].between(6,19))]\n",
        "                        runs=legal.groupBy('batsman').sum('batsman_runs')\n",
        "                        ball=legal.groupby('batsman').count()\n",
        "                        balls=ball.withColumnRenamed(\"batsman\",\"batsman_1\")\n",
        "                        joined=balls.join(runs, balls.batsman_1 == runs.batsman, 'inner')\n",
        "                        result_4=joined.withColumn(\"Strike rate\", col(\"sum(batsman_runs)\")*100/col(\"count\")).sort('Strike rate',ascending=False)\n",
        "                        result_4.select('batsman','Strike rate').show(10)\"\"\")\n",
        "    q4 = self.cur.fetchone()\n",
        "    return q4\n",
        "\n",
        "  def get_query5_results(self):\n",
        "    self.cur.execute(\"\"\"select c.venue,c.city,a.match_id,a.inning,SUM(a.extra_runs) AS Extra_Runs from balls a \n",
        "                        inner join matches b on a.match_id=b.match_id\n",
        "                        inner join venue c on b.venue_id=c.venue_id\n",
        "                        group by c.venue,c.city,a.match_id,a.inning\n",
        "                        order by Extra_Runs desc;\"\"\")\n",
        "    q5 = self.cur.fetchone()\n",
        "    return q5\n",
        "\n",
        "  def get_query6_results(self):\n",
        "    self.cur.execute(\"\"\"select player_of_match,count(player_of_match) from matches\n",
        "                        where neutral_venue = 1\n",
        "                        group by player_of_match\n",
        "                        order by count(player_of_match) desc \"\"\")\n",
        "    q6 = self.cur.fetchone()\n",
        "    return q6\n",
        "\n",
        "  def get_query7_results(self):\n",
        "    self.cur.execute(\"\"\"player_dismissed=ipl_ball_by_ball.groupby('player_dismissed').count()\n",
        "                        total_runs=ipl_ball_by_ball.groupBy('batsman').sum('batsman_runs')\n",
        "                        joined_data=player_dismissed.join(total_runs, player_dismissed.player_dismissed == total_runs.batsman, 'inner') \n",
        "                        result_7=joined_data.withColumn(\"Batsmen Avg\", col(\"sum(batsman_runs)\")/col(\"count\")).sort('Batsmen Avg',ascending=False)\n",
        "                        result_7.select('batsman','Batsmen Avg').show(10)\"\"\")\n",
        "    q7 = self.cur.fetchone()\n",
        "    return q7\n",
        "\n",
        "  def get_query8_results(self):\n",
        "    self.cur.execute(\"\"\"select umpire, count(*)\n",
        "                        from ((select umpire1 as umpire from matches) union all\n",
        "                              (select umpire2 from matches)\n",
        "                              ) matches\n",
        "                              group by umpire\n",
        "                        order by count(*) desc ;\"\"\")\n",
        "    q8 = self.cur.fetchone()\n",
        "    return q8\n",
        "\n",
        "  def get_query9_results(self):\n",
        "    self.cur.execute(\"\"\"select m.match_id,first(v.venue),first(v.city),sum(b.batsman_runs) from balls as b\n",
        "                        inner join matches as m on b.match_id=m.match_id\n",
        "                        inner join venue as v on m.venue_id =v.venue_id\n",
        "                        where b.batsman= 'V Kohli'\n",
        "                        group by m.match_id\n",
        "                        order by sum(b.batsman_runs) desc limit 1;\"\"\")\n",
        "    q9 = self.cur.fetchone()\n",
        "    return q9\n",
        "   \n",
        "\n",
        "  "
      ],
      "metadata": {
        "id": "uXea6rW-rwaJ"
      },
      "execution_count": null,
      "outputs": []
    }
  ]
}